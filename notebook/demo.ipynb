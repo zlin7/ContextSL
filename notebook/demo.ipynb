{
 "cells": [
  {
   "cell_type": "code",
   "execution_count": 1,
   "id": "10a3897f",
   "metadata": {},
   "outputs": [],
   "source": [
    "import sys; sys.path.append(\"..\")\n",
    "import persist_to_disk as ptd\n",
    "import os\n",
    "ptd.config.set_project_path(os.path.abspath(\"../\"))\n",
    "\n",
    "from _settings import GEN_PATHS"
   ]
  },
  {
   "cell_type": "code",
   "execution_count": 2,
   "id": "66f06f8b",
   "metadata": {},
   "outputs": [],
   "source": [
    "import pipeline.summ as summ\n",
    "path = GEN_PATHS[0.5]['nq_open_new']['llama2-13b']\n",
    "num_gens = 5\n",
    "obj = summ.UQ_summ(path, clean=True, split='test', cal_size=1000, seed=0)"
   ]
  },
  {
   "cell_type": "code",
   "execution_count": 4,
   "id": "cebc1656",
   "metadata": {},
   "outputs": [
    {
     "data": {
      "text/plain": [
       "self_prob                  0.528446\n",
       "acc                        0.562416\n",
       "blind                      0.562416\n",
       "nll|unnorm                 0.666430\n",
       "nll|norm                   0.687188\n",
       "degree|agreement_w         0.711124\n",
       "attnnll_nexttoken@10       0.730045\n",
       "attnnll@10                 0.736056\n",
       "oracle                     1.000000\n",
       "_cnt                    2235.000000\n",
       "dtype: float64"
      ]
     },
     "execution_count": 4,
     "metadata": {},
     "output_type": "execute_result"
    }
   ],
   "source": [
    "obj.summ(uq_names=['degree|agreement_w', 'self_prob',\n",
    "                   'nll|unnorm', 'nll|norm',\n",
    "                    'attnnll@10', 'attnnll_nexttoken@10',\n",
    "                   #'semanticEntropy|norm', 'semanticEntropy|unnorm', 'semanticEntropyFROMattnnll@10'\n",
    "],\n",
    "    acc_name='moe|acc',\n",
    "    num_gens=num_gens,\n",
    "    setting='mlga~neg_mlgc', curve='auroc'\n",
    ")"
   ]
  },
  {
   "cell_type": "code",
   "execution_count": null,
   "id": "9728be91",
   "metadata": {},
   "outputs": [],
   "source": [
    "# mlga means most_likely_generation accuracy\n",
    "# neg_mlgc means negative most_likely_generation confidence\n",
    "# (we actually use confidence, not negative confidence, to predict accuracy)"
   ]
  }
 ],
 "metadata": {
  "kernelspec": {
   "display_name": "Python 3 (ipykernel)",
   "language": "python",
   "name": "python3"
  },
  "language_info": {
   "codemirror_mode": {
    "name": "ipython",
    "version": 3
   },
   "file_extension": ".py",
   "mimetype": "text/x-python",
   "name": "python",
   "nbconvert_exporter": "python",
   "pygments_lexer": "ipython3",
   "version": "3.11.4"
  }
 },
 "nbformat": 4,
 "nbformat_minor": 5
}
